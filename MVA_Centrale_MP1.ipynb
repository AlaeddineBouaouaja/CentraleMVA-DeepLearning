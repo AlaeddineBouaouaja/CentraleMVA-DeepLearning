{
  "nbformat": 4,
  "nbformat_minor": 0,
  "metadata": {
    "colab": {
      "name": "MVA-Centrale MP1.ipynb",
      "version": "0.3.2",
      "provenance": [],
      "collapsed_sections": []
    },
    "kernelspec": {
      "display_name": "Python 3",
      "language": "python",
      "name": "python3"
    }
  },
  "cells": [
    {
      "metadata": {
        "id": "SLsTCSQXvLBw",
        "colab_type": "text"
      },
      "cell_type": "markdown",
      "source": [
        "# TP 1 : Image Classification and Regression\n"
      ]
    },
    {
      "metadata": {
        "id": "FuD5fxzFvLBx",
        "colab_type": "code",
        "colab": {}
      },
      "cell_type": "code",
      "source": [
        "import numpy as np\n",
        "import pandas as pd\n",
        "import matplotlib.pyplot as plt\n",
        "%matplotlib inline\n",
        "import keras.backend as k\n",
        "import keras\n",
        "from keras.models import Sequential, Model\n",
        "from keras.layers import Input,Conv2D,Convolution2D,MaxPooling2D,Dense,UpSampling2D, Activation, Flatten,BatchNormalization,Dropout, Cropping2D, concatenate, ZeroPadding2D\n",
        "from keras.wrappers.scikit_learn import KerasClassifier\n",
        "from keras.utils import np_utils\n",
        "from sklearn.model_selection import cross_val_score\n",
        "from sklearn.model_selection import KFold\n",
        "from sklearn.preprocessing import LabelEncoder\n",
        "from sklearn.pipeline import Pipeline\n",
        "from keras.optimizers import SGD, Adam\n",
        "from sklearn.preprocessing import StandardScaler\n",
        "from keras.callbacks import TensorBoard\n",
        "classes_text = [\"rectangle\", \"disk\", \"triangle\"]"
      ],
      "execution_count": 0,
      "outputs": []
    },
    {
      "metadata": {
        "id": "g6zIHE4Ii0G5",
        "colab_type": "text"
      },
      "cell_type": "markdown",
      "source": [
        "# 1. Getting Started\n"
      ]
    },
    {
      "metadata": {
        "id": "vK-cIGgFwlJV",
        "colab_type": "code",
        "colab": {
          "base_uri": "https://localhost:8080/",
          "height": 268
        },
        "outputId": "240432d0-1778-4a3f-a005-91a81b99fc62"
      },
      "cell_type": "code",
      "source": [
        "IMAGE_SIZE = 72\n",
        "\n",
        "def generate_a_drawing(figsize, U, V, noise=0.0):\n",
        "    fig = plt.figure(figsize=(figsize,figsize))\n",
        "    ax = plt.subplot(111)\n",
        "    plt.axis('Off')\n",
        "    ax.set_xlim(0,figsize)\n",
        "    ax.set_ylim(0,figsize)\n",
        "    ax.fill(U, V, \"k\")\n",
        "    fig.canvas.draw()\n",
        "    imdata = np.frombuffer(fig.canvas.tostring_rgb(), dtype=np.uint8)[::3].astype(np.float32)\n",
        "    imdata = imdata + noise * np.random.random(imdata.size)\n",
        "    plt.close(fig)\n",
        "    return imdata\n",
        "\n",
        "def generate_a_rectangle(noise=0.0, free_location=False):\n",
        "    figsize = 1.0    \n",
        "    U = np.zeros(4)\n",
        "    V = np.zeros(4)\n",
        "    if free_location:\n",
        "        corners = np.random.random(4)\n",
        "        top = max(corners[0], corners[1])\n",
        "        bottom = min(corners[0], corners[1])\n",
        "        left = min(corners[2], corners[3])\n",
        "        right = max(corners[2], corners[3])\n",
        "    else:\n",
        "        side = (0.3 + 0.7 * np.random.random()) * figsize\n",
        "        top = figsize/2 + side/2\n",
        "        bottom = figsize/2 - side/2\n",
        "        left = bottom\n",
        "        right = top\n",
        "    U[0] = U[1] = top\n",
        "    U[2] = U[3] = bottom\n",
        "    V[0] = V[3] = left\n",
        "    V[1] = V[2] = right\n",
        "    return generate_a_drawing(figsize, U, V, noise)\n",
        "\n",
        "\n",
        "def generate_a_disk(noise=0.0, free_location=False):\n",
        "    figsize = 1.0\n",
        "    if free_location:\n",
        "        center = np.random.random(2)\n",
        "    else:\n",
        "        center = (figsize/2, figsize/2)\n",
        "    radius = (0.3 + 0.7 * np.random.random()) * figsize/2\n",
        "    N = 50\n",
        "    U = np.zeros(N)\n",
        "    V = np.zeros(N)\n",
        "    i = 0\n",
        "    for t in np.linspace(0, 2*np.pi, N):\n",
        "        U[i] = center[0] + np.cos(t) * radius\n",
        "        V[i] = center[1] + np.sin(t) * radius\n",
        "        i = i + 1\n",
        "    return generate_a_drawing(figsize, U, V, noise)\n",
        "\n",
        "def generate_a_triangle(noise=0.0, free_location=False):\n",
        "    figsize = 1.0\n",
        "    if free_location:\n",
        "        U = np.random.random(3)\n",
        "        V = np.random.random(3)\n",
        "    else:\n",
        "        size = (0.3 + 0.7 * np.random.random())*figsize/2\n",
        "        middle = figsize/2\n",
        "        U = (middle, middle+size, middle-size)\n",
        "        V = (middle+size, middle-size, middle-size)\n",
        "    imdata = generate_a_drawing(figsize, U, V, noise)\n",
        "    return [imdata, [U[0], V[0], U[1], V[1], U[2], V[2]]]\n",
        "\n",
        "\n",
        "im = generate_a_rectangle(10, True)\n",
        "plt.imshow(im.reshape(IMAGE_SIZE,IMAGE_SIZE), cmap='gray')\n",
        "\n",
        "im = generate_a_disk(10)\n",
        "plt.imshow(im.reshape(IMAGE_SIZE,IMAGE_SIZE), cmap='gray')\n",
        "\n",
        "[im, v] = generate_a_triangle(20, False)\n",
        "plt.imshow(im.reshape(IMAGE_SIZE,IMAGE_SIZE), cmap='gray')\n",
        "\n",
        "\n",
        "def generate_dataset_classification(nb_samples, noise=0.0, free_location=False):\n",
        "    # Getting im_size:\n",
        "    im_size = generate_a_rectangle().shape[0]\n",
        "    X = np.zeros([nb_samples,im_size])\n",
        "    Y = np.zeros(nb_samples)\n",
        "    print('Creating data:')\n",
        "    for i in range(nb_samples):\n",
        "        if i % 10 == 0:\n",
        "            print(i)\n",
        "        category = np.random.randint(3)\n",
        "        if category == 0:\n",
        "            X[i] = generate_a_rectangle(noise, free_location)\n",
        "        elif category == 1: \n",
        "            X[i] = generate_a_disk(noise, free_location)\n",
        "        else:\n",
        "            [X[i], V] = generate_a_triangle(noise, free_location)\n",
        "        Y[i] = category\n",
        "    X = (X + noise) / (255 + 2 * noise)\n",
        "    return [X, Y]\n",
        "\n",
        "def generate_test_set_classification():\n",
        "    np.random.seed(42)\n",
        "    [X_test, Y_test] = generate_dataset_classification(300, 20, True)\n",
        "    Y_test = np_utils.to_categorical(Y_test, 3) \n",
        "    return [X_test, Y_test]\n",
        "\n",
        "def generate_dataset_regression(nb_samples, noise=0.0):\n",
        "    # Getting im_size:\n",
        "    im_size = generate_a_triangle()[0].shape[0]\n",
        "    X = np.zeros([nb_samples,im_size])\n",
        "    Y = np.zeros([nb_samples, 6])\n",
        "    print('Creating data:')\n",
        "    for i in range(nb_samples):\n",
        "        if i % 10 == 0:\n",
        "            print(i)\n",
        "        [X[i], Y[i]] = generate_a_triangle(noise, True)\n",
        "    X = (X + noise) / (255 + 2 * noise)\n",
        "    return [X, Y]\n",
        "\n",
        "import matplotlib.patches as patches\n",
        "\n",
        "def visualize_prediction(x, y):\n",
        "    fig, ax = plt.subplots(figsize=(5, 5))\n",
        "    I = x.reshape((IMAGE_SIZE,IMAGE_SIZE))\n",
        "    ax.imshow(I, extent=[-0.15,1.15,-0.15,1.15],cmap='gray')\n",
        "    ax.set_xlim([0,1])\n",
        "    ax.set_ylim([0,1])\n",
        "\n",
        "    xy = y.reshape(3,2)\n",
        "    tri = patches.Polygon(xy, closed=True, fill = False, edgecolor = 'r', linewidth = 5, alpha = 0.5)\n",
        "    ax.add_patch(tri)\n",
        "\n",
        "    plt.show()\n",
        "\n",
        "def generate_test_set_regression():\n",
        "    np.random.seed(42)\n",
        "    [X_test, Y_test] = generate_dataset_regression(300, 20)\n",
        "    return [X_test, Y_test]"
      ],
      "execution_count": 6,
      "outputs": [
        {
          "output_type": "display_data",
          "data": {
            "image/png": "[encoded data removed]",
            "text/plain": [
              "<matplotlib.figure.Figure at 0x7f76836a90b8>"
            ]
          },
          "metadata": {
            "tags": []
          }
        }
      ]
    },
    {
      "metadata": {
        "id": "oO5JN5J-vLB7",
        "colab_type": "text"
      },
      "cell_type": "markdown",
      "source": [
        "## 2. Simple Classification\n",
        "We can generate a training set of images of simple geometric shapes (rectangle, disk, triangle) centered in the images"
      ]
    },
    {
      "metadata": {
        "id": "ve3qDXSevLB7",
        "colab_type": "code",
        "colab": {
          "base_uri": "https://localhost:8080/",
          "height": 544
        },
        "outputId": "cb13081a-b858-4ae0-b672-d5ff9d61de73"
      },
      "cell_type": "code",
      "source": [
        "[X_train, Y_train] = generate_dataset_classification(300, 20)\n",
        "Y_train_cat = keras.utils.to_categorical(Y_train, 3)"
      ],
      "execution_count": 32,
      "outputs": [
        {
          "output_type": "stream",
          "text": [
            "Creating data:\n",
            "0\n",
            "10\n",
            "20\n",
            "30\n",
            "40\n",
            "50\n",
            "60\n",
            "70\n",
            "80\n",
            "90\n",
            "100\n",
            "110\n",
            "120\n",
            "130\n",
            "140\n",
            "150\n",
            "160\n",
            "170\n",
            "180\n",
            "190\n",
            "200\n",
            "210\n",
            "220\n",
            "230\n",
            "240\n",
            "250\n",
            "260\n",
            "270\n",
            "280\n",
            "290\n"
          ],
          "name": "stdout"
        }
      ]
    },
    {
      "metadata": {
        "id": "ILoFhMEhvLB_",
        "colab_type": "text"
      },
      "cell_type": "markdown",
      "source": [
        "We build and train a linear classifier in Keras to classify a image into one of the three possiblecategories (i.e. rectangle, disk, triangle)."
      ]
    },
    {
      "metadata": {
        "id": "kTIwS6TdvLCA",
        "colab_type": "code",
        "colab": {}
      },
      "cell_type": "code",
      "source": [
        "def linear_classifier():\n",
        "    model = keras.Sequential()\n",
        "    model.add(Dense(3, input_dim=X_train.shape[1], activation='softmax'))\n",
        "    return model"
      ],
      "execution_count": 0,
      "outputs": []
    },
    {
      "metadata": {
        "id": "FIGJAnvZvLCD",
        "colab_type": "text"
      },
      "cell_type": "markdown",
      "source": [
        "### SGD Optimizer"
      ]
    },
    {
      "metadata": {
        "id": "vIZBDeT2vLCE",
        "colab_type": "code",
        "colab": {
          "base_uri": "https://localhost:8080/",
          "height": 1037
        },
        "outputId": "19861397-4a9e-4ca3-f73a-f983ed9ff708"
      },
      "cell_type": "code",
      "source": [
        "model_sgd = linear_classifier()\n",
        "optim_sgd = SGD(lr = 0.001, decay = 1e-6, momentum=0.9)\n",
        "model_sgd.compile(loss='categorical_crossentropy', optimizer=optim_sgd, metrics=['accuracy'])\n",
        "results = model_sgd.fit(X_train, Y_train_cat, epochs = 30)"
      ],
      "execution_count": 39,
      "outputs": [
        {
          "output_type": "stream",
          "text": [
            "Epoch 1/30\n",
            "300/300 [==============================] - 0s 1ms/step - loss: 1.1944 - acc: 0.3700\n",
            "Epoch 2/30\n",
            "300/300 [==============================] - 0s 110us/step - loss: 0.8659 - acc: 0.5533\n",
            "Epoch 3/30\n",
            "300/300 [==============================] - 0s 106us/step - loss: 0.6830 - acc: 0.6467\n",
            "Epoch 4/30\n",
            "300/300 [==============================] - 0s 116us/step - loss: 0.4312 - acc: 0.8533\n",
            "Epoch 5/30\n",
            "300/300 [==============================] - 0s 97us/step - loss: 0.3295 - acc: 0.9267\n",
            "Epoch 6/30\n",
            "300/300 [==============================] - 0s 95us/step - loss: 0.3877 - acc: 0.8367\n",
            "Epoch 7/30\n",
            "300/300 [==============================] - 0s 118us/step - loss: 0.2834 - acc: 0.9167\n",
            "Epoch 8/30\n",
            "300/300 [==============================] - 0s 102us/step - loss: 0.2612 - acc: 0.8967\n",
            "Epoch 9/30\n",
            "300/300 [==============================] - 0s 96us/step - loss: 0.2315 - acc: 0.9200\n",
            "Epoch 10/30\n",
            "300/300 [==============================] - 0s 121us/step - loss: 0.3174 - acc: 0.8400\n",
            "Epoch 11/30\n",
            "300/300 [==============================] - 0s 107us/step - loss: 0.2769 - acc: 0.8633\n",
            "Epoch 12/30\n",
            "300/300 [==============================] - 0s 117us/step - loss: 0.2322 - acc: 0.9067\n",
            "Epoch 13/30\n",
            "300/300 [==============================] - 0s 108us/step - loss: 0.2046 - acc: 0.9333\n",
            "Epoch 14/30\n",
            "300/300 [==============================] - 0s 112us/step - loss: 0.1507 - acc: 0.9633\n",
            "Epoch 15/30\n",
            "300/300 [==============================] - 0s 105us/step - loss: 0.1490 - acc: 0.9500\n",
            "Epoch 16/30\n",
            "300/300 [==============================] - 0s 108us/step - loss: 0.1408 - acc: 0.9733\n",
            "Epoch 17/30\n",
            "300/300 [==============================] - 0s 115us/step - loss: 0.1384 - acc: 0.9833\n",
            "Epoch 18/30\n",
            "300/300 [==============================] - 0s 123us/step - loss: 0.1389 - acc: 0.9700\n",
            "Epoch 19/30\n",
            "300/300 [==============================] - 0s 110us/step - loss: 0.1128 - acc: 0.9933\n",
            "Epoch 20/30\n",
            "300/300 [==============================] - 0s 107us/step - loss: 0.1154 - acc: 0.9867\n",
            "Epoch 21/30\n",
            "300/300 [==============================] - 0s 117us/step - loss: 0.1137 - acc: 0.9900\n",
            "Epoch 22/30\n",
            "300/300 [==============================] - 0s 119us/step - loss: 0.1135 - acc: 0.9900\n",
            "Epoch 23/30\n",
            "300/300 [==============================] - 0s 109us/step - loss: 0.1373 - acc: 0.9533\n",
            "Epoch 24/30\n",
            "300/300 [==============================] - 0s 110us/step - loss: 0.0968 - acc: 0.9967\n",
            "Epoch 25/30\n",
            "300/300 [==============================] - 0s 110us/step - loss: 0.0877 - acc: 1.0000\n",
            "Epoch 26/30\n",
            "300/300 [==============================] - 0s 102us/step - loss: 0.0953 - acc: 0.9833\n",
            "Epoch 27/30\n",
            "300/300 [==============================] - 0s 104us/step - loss: 0.1096 - acc: 0.9800\n",
            "Epoch 28/30\n",
            "300/300 [==============================] - 0s 103us/step - loss: 0.1003 - acc: 0.9800\n",
            "Epoch 29/30\n",
            "300/300 [==============================] - 0s 111us/step - loss: 0.0916 - acc: 0.9867\n",
            "Epoch 30/30\n",
            "300/300 [==============================] - 0s 124us/step - loss: 0.0990 - acc: 0.9967\n"
          ],
          "name": "stdout"
        }
      ]
    },
    {
      "metadata": {
        "id": "7SUHSHfI1119",
        "colab_type": "text"
      },
      "cell_type": "markdown",
      "source": [
        "### Plot the model accuracy"
      ]
    },
    {
      "metadata": {
        "id": "ZqF_8qdFzg7u",
        "colab_type": "code",
        "colab": {
          "base_uri": "https://localhost:8080/",
          "height": 294
        },
        "outputId": "6501aedc-e9c1-429a-91d2-73d67a36993b"
      },
      "cell_type": "code",
      "source": [
        "# history for Accuracy\n",
        "plt.plot(results.history['acc'], color='blue')\n",
        "plt.title('Model accuracy - SGD Version')\n",
        "plt.ylabel('Accuracy')\n",
        "plt.xlabel('epoch')\n",
        "plt.legend(['train'], loc='best')\n",
        "plt.show()"
      ],
      "execution_count": 47,
      "outputs": [
        {
          "output_type": "display_data",
          "data": {
            "image/png": "[encoded data removed]",
            "text/plain": [
              "<matplotlib.figure.Figure at 0x7f7666f164e0>"
            ]
          },
          "metadata": {
            "tags": []
          }
        }
      ]
    },
    {
      "metadata": {
        "id": "flwUeXCevLCH",
        "colab_type": "text"
      },
      "cell_type": "markdown",
      "source": [
        "### Adam Optimizer"
      ]
    },
    {
      "metadata": {
        "id": "oWHN3kP2vLCJ",
        "colab_type": "code",
        "colab": {
          "base_uri": "https://localhost:8080/",
          "height": 1037
        },
        "outputId": "aee4b19d-05d1-4b14-c8be-4a98c04479fa"
      },
      "cell_type": "code",
      "source": [
        "model_adam = linear_classifier()\n",
        "optim_adam = Adam()\n",
        "model_adam.compile(loss='categorical_crossentropy', optimizer=optim_adam, metrics=['accuracy'])\n",
        "results = model_adam.fit(X_train, Y_train_cat, epochs = 30)"
      ],
      "execution_count": 43,
      "outputs": [
        {
          "output_type": "stream",
          "text": [
            "Epoch 1/30\n",
            "300/300 [==============================] - 0s 2ms/step - loss: 1.8676 - acc: 0.4367\n",
            "Epoch 2/30\n",
            "300/300 [==============================] - 0s 120us/step - loss: 0.7582 - acc: 0.7033\n",
            "Epoch 3/30\n",
            "300/300 [==============================] - 0s 126us/step - loss: 0.4858 - acc: 0.7967\n",
            "Epoch 4/30\n",
            "300/300 [==============================] - 0s 107us/step - loss: 0.3742 - acc: 0.8933\n",
            "Epoch 5/30\n",
            "300/300 [==============================] - 0s 120us/step - loss: 0.3553 - acc: 0.8233\n",
            "Epoch 6/30\n",
            "300/300 [==============================] - 0s 118us/step - loss: 0.3459 - acc: 0.8233\n",
            "Epoch 7/30\n",
            "300/300 [==============================] - 0s 108us/step - loss: 0.2983 - acc: 0.8933\n",
            "Epoch 8/30\n",
            "300/300 [==============================] - 0s 127us/step - loss: 0.2668 - acc: 0.9133\n",
            "Epoch 9/30\n",
            "300/300 [==============================] - 0s 111us/step - loss: 0.2086 - acc: 0.9733\n",
            "Epoch 10/30\n",
            "300/300 [==============================] - 0s 115us/step - loss: 0.1981 - acc: 0.9633\n",
            "Epoch 11/30\n",
            "300/300 [==============================] - 0s 136us/step - loss: 0.1973 - acc: 0.9367\n",
            "Epoch 12/30\n",
            "300/300 [==============================] - 0s 121us/step - loss: 0.1459 - acc: 0.9833\n",
            "Epoch 13/30\n",
            "300/300 [==============================] - 0s 139us/step - loss: 0.1999 - acc: 0.9400\n",
            "Epoch 14/30\n",
            "300/300 [==============================] - 0s 113us/step - loss: 0.1592 - acc: 0.9400\n",
            "Epoch 15/30\n",
            "300/300 [==============================] - 0s 128us/step - loss: 0.1102 - acc: 1.0000\n",
            "Epoch 16/30\n",
            "300/300 [==============================] - 0s 124us/step - loss: 0.0985 - acc: 1.0000\n",
            "Epoch 17/30\n",
            "300/300 [==============================] - 0s 119us/step - loss: 0.0908 - acc: 1.0000\n",
            "Epoch 18/30\n",
            "300/300 [==============================] - 0s 119us/step - loss: 0.1013 - acc: 1.0000\n",
            "Epoch 19/30\n",
            "300/300 [==============================] - 0s 131us/step - loss: 0.1187 - acc: 0.9933\n",
            "Epoch 20/30\n",
            "300/300 [==============================] - 0s 108us/step - loss: 0.0905 - acc: 1.0000\n",
            "Epoch 21/30\n",
            "300/300 [==============================] - 0s 120us/step - loss: 0.0772 - acc: 1.0000\n",
            "Epoch 22/30\n",
            "300/300 [==============================] - 0s 118us/step - loss: 0.0750 - acc: 1.0000\n",
            "Epoch 23/30\n",
            "300/300 [==============================] - 0s 127us/step - loss: 0.0772 - acc: 1.0000\n",
            "Epoch 24/30\n",
            "300/300 [==============================] - 0s 129us/step - loss: 0.0637 - acc: 1.0000\n",
            "Epoch 25/30\n",
            "300/300 [==============================] - 0s 111us/step - loss: 0.0588 - acc: 1.0000\n",
            "Epoch 26/30\n",
            "300/300 [==============================] - 0s 123us/step - loss: 0.0516 - acc: 1.0000\n",
            "Epoch 27/30\n",
            "300/300 [==============================] - 0s 136us/step - loss: 0.0506 - acc: 1.0000\n",
            "Epoch 28/30\n",
            "300/300 [==============================] - 0s 112us/step - loss: 0.0521 - acc: 1.0000\n",
            "Epoch 29/30\n",
            "300/300 [==============================] - 0s 133us/step - loss: 0.0510 - acc: 1.0000\n",
            "Epoch 30/30\n",
            "300/300 [==============================] - 0s 117us/step - loss: 0.0480 - acc: 1.0000\n"
          ],
          "name": "stdout"
        }
      ]
    },
    {
      "metadata": {
        "id": "zIPZOnaz1_0X",
        "colab_type": "text"
      },
      "cell_type": "markdown",
      "source": [
        "### Plot the model accuracy"
      ]
    },
    {
      "metadata": {
        "id": "VnQo4hqf1QGh",
        "colab_type": "code",
        "colab": {
          "base_uri": "https://localhost:8080/",
          "height": 294
        },
        "outputId": "7946e5a5-ec91-44ab-ff04-5c25e535a795"
      },
      "cell_type": "code",
      "source": [
        "# history for Accuracy\n",
        "plt.plot(results.history['acc'], color='blue')\n",
        "plt.title('Model accuracy - Adam Version')\n",
        "plt.ylabel('Accuracy')\n",
        "plt.xlabel('epoch')\n",
        "plt.legend(['train'], loc='best')\n",
        "plt.show()"
      ],
      "execution_count": 45,
      "outputs": [
        {
          "output_type": "display_data",
          "data": {
            "image/png": "[encoded data removed]",
            "text/plain": [
              "<matplotlib.figure.Figure at 0x7f7667043588>"
            ]
          },
          "metadata": {
            "tags": []
          }
        }
      ]
    },
    {
      "metadata": {
        "id": "OK2E2OLUvLCM",
        "colab_type": "text"
      },
      "cell_type": "markdown",
      "source": [
        "\n",
        "### Testing the two optimizers\n",
        "We will test the two models on a sample"
      ]
    },
    {
      "metadata": {
        "id": "hL67qadQvLCN",
        "colab_type": "code",
        "colab": {
          "base_uri": "https://localhost:8080/",
          "height": 544
        },
        "outputId": "0620c881-82c7-4c67-98ea-c1f4ffd7741e"
      },
      "cell_type": "code",
      "source": [
        "[X_test, Y_test] = generate_dataset_classification(300, 20)\n",
        "Y_test_cat = keras.utils.to_categorical(Y_test, 3)\n"
      ],
      "execution_count": 58,
      "outputs": [
        {
          "output_type": "stream",
          "text": [
            "Creating data:\n",
            "0\n",
            "10\n",
            "20\n",
            "30\n",
            "40\n",
            "50\n",
            "60\n",
            "70\n",
            "80\n",
            "90\n",
            "100\n",
            "110\n",
            "120\n",
            "130\n",
            "140\n",
            "150\n",
            "160\n",
            "170\n",
            "180\n",
            "190\n",
            "200\n",
            "210\n",
            "220\n",
            "230\n",
            "240\n",
            "250\n",
            "260\n",
            "270\n",
            "280\n",
            "290\n"
          ],
          "name": "stdout"
        }
      ]
    },
    {
      "metadata": {
        "id": "Feco0DoI391N",
        "colab_type": "text"
      },
      "cell_type": "markdown",
      "source": [
        "*** Model accuracy on a sample***"
      ]
    },
    {
      "metadata": {
        "id": "ra_zx7PbvLCQ",
        "colab_type": "code",
        "colab": {
          "base_uri": "https://localhost:8080/",
          "height": 85
        },
        "outputId": "b6642f5e-0db3-4120-8394-443d5ecbd146"
      },
      "cell_type": "code",
      "source": [
        "score_sgd, acc_sgd = model_sgd.evaluate(X_test, Y_test_cat,batch_size=32)\n",
        "print('Test accuracy with SGD:', acc_sgd)\n",
        "\n",
        "score_adam, acc_adam = model_adam.evaluate(X_test, Y_test_cat,batch_size=32)\n",
        "print('Test accuracy with Adam:', acc_adam)"
      ],
      "execution_count": 49,
      "outputs": [
        {
          "output_type": "stream",
          "text": [
            "300/300 [==============================] - 0s 680us/step\n",
            "Test accuracy with SGD: 0.9866666666666667\n",
            "300/300 [==============================] - 0s 676us/step\n",
            "Test accuracy with Adam: 0.9933333333333333\n"
          ],
          "name": "stdout"
        }
      ]
    },
    {
      "metadata": {
        "id": "uLH0VvmxvLCT",
        "colab_type": "text"
      },
      "cell_type": "markdown",
      "source": [
        "***Conclusion***\n",
        "*   Both optimizers manage to give good predictions and converge correctly.\n",
        "*   Adam optimizer does slightly better than SGD optimizer \n",
        "*   The SGD can be improved by the momentum and the nesterov version.\n"
      ]
    },
    {
      "metadata": {
        "id": "_SBJt-O3vLCU",
        "colab_type": "text"
      },
      "cell_type": "markdown",
      "source": [
        "## 3. Vizualization of the solution\n",
        "we consider the model with Adam optimizer in this section.\n",
        "We visualize the weights of the linear classifier."
      ]
    },
    {
      "metadata": {
        "id": "rOIGbPq_vLCV",
        "colab_type": "code",
        "colab": {}
      },
      "cell_type": "code",
      "source": [
        "weights = model_adam.get_weights()[0].reshape(IMAGE_SIZE,IMAGE_SIZE,3)"
      ],
      "execution_count": 0,
      "outputs": []
    },
    {
      "metadata": {
        "id": "gfhwSGAavLCa",
        "colab_type": "code",
        "colab": {
          "base_uri": "https://localhost:8080/",
          "height": 227
        },
        "outputId": "48c79e75-9bbb-4499-aaa9-ca0cd929afed"
      },
      "cell_type": "code",
      "source": [
        "plt.subplots(1, 3, figsize = (10,10))\n",
        "plt.subplot(131)\n",
        "plt.imshow(weights[:,:,0], cmap='copper')\n",
        "plt.title('Rectangle')\n",
        "\n",
        "plt.subplot(132)\n",
        "plt.imshow(weights[:,:,1], cmap='copper')\n",
        "plt.title('Disk')\n",
        "\n",
        "plt.subplot(133)\n",
        "plt.imshow(weights[:,:,2], cmap='copper')\n",
        "plt.title('Triangle')\n",
        "\n",
        "plt.show()"
      ],
      "execution_count": 55,
      "outputs": [
        {
          "output_type": "display_data",
          "data": {
            "image/png": "[encoded data removed]",
            "text/plain": [
              "<matplotlib.figure.Figure at 0x7f766c2832e8>"
            ]
          },
          "metadata": {
            "tags": []
          }
        }
      ]
    },
    {
      "metadata": {
        "id": "A8dqKmfbvLCg",
        "colab_type": "text"
      },
      "cell_type": "markdown",
      "source": [
        "* One can see that each column contains the weights learned to predict the corresponding category. \n",
        "* We can see the shape of the rectangle, the disk and the triangle in the displayed weights graphs.\n",
        "## 4. A More Difficult Classification Problem\n"
      ]
    },
    {
      "metadata": {
        "id": "AxZbpIxhvLCi",
        "colab_type": "code",
        "colab": {
          "base_uri": "https://localhost:8080/",
          "height": 1734
        },
        "outputId": "d1532ff9-e298-44f1-d36d-72a204539131"
      },
      "cell_type": "code",
      "source": [
        "[X_train, Y_train] = generate_dataset_classification(1000, 20, True)\n",
        "Y_train_cat = keras.utils.to_categorical(Y_train, 3)"
      ],
      "execution_count": 59,
      "outputs": [
        {
          "output_type": "stream",
          "text": [
            "Creating data:\n",
            "0\n",
            "10\n",
            "20\n",
            "30\n",
            "40\n",
            "50\n",
            "60\n",
            "70\n",
            "80\n",
            "90\n",
            "100\n",
            "110\n",
            "120\n",
            "130\n",
            "140\n",
            "150\n",
            "160\n",
            "170\n",
            "180\n",
            "190\n",
            "200\n",
            "210\n",
            "220\n",
            "230\n",
            "240\n",
            "250\n",
            "260\n",
            "270\n",
            "280\n",
            "290\n",
            "300\n",
            "310\n",
            "320\n",
            "330\n",
            "340\n",
            "350\n",
            "360\n",
            "370\n",
            "380\n",
            "390\n",
            "400\n",
            "410\n",
            "420\n",
            "430\n",
            "440\n",
            "450\n",
            "460\n",
            "470\n",
            "480\n",
            "490\n",
            "500\n",
            "510\n",
            "520\n",
            "530\n",
            "540\n",
            "550\n",
            "560\n",
            "570\n",
            "580\n",
            "590\n",
            "600\n",
            "610\n",
            "620\n",
            "630\n",
            "640\n",
            "650\n",
            "660\n",
            "670\n",
            "680\n",
            "690\n",
            "700\n",
            "710\n",
            "720\n",
            "730\n",
            "740\n",
            "750\n",
            "760\n",
            "770\n",
            "780\n",
            "790\n",
            "800\n",
            "810\n",
            "820\n",
            "830\n",
            "840\n",
            "850\n",
            "860\n",
            "870\n",
            "880\n",
            "890\n",
            "900\n",
            "910\n",
            "920\n",
            "930\n",
            "940\n",
            "950\n",
            "960\n",
            "970\n",
            "980\n",
            "990\n"
          ],
          "name": "stdout"
        }
      ]
    },
    {
      "metadata": {
        "id": "mz8uW_nAvLCn",
        "colab_type": "code",
        "colab": {
          "base_uri": "https://localhost:8080/",
          "height": 285
        },
        "outputId": "54821129-d6e3-4b87-9469-43f5406e1f56"
      },
      "cell_type": "code",
      "source": [
        "idx = 36\n",
        "plt.imshow(X_train[idx].reshape(IMAGE_SIZE,IMAGE_SIZE), cmap='gray')"
      ],
      "execution_count": 65,
      "outputs": [
        {
          "output_type": "execute_result",
          "data": {
            "text/plain": [
              "<matplotlib.image.AxesImage at 0x7f765b723fd0>"
            ]
          },
          "metadata": {
            "tags": []
          },
          "execution_count": 65
        },
        {
          "output_type": "display_data",
          "data": {
            "image/png": "[encoded data removed]",
            "text/plain": [
              "<matplotlib.figure.Figure at 0x7f765b7ab6a0>"
            ]
          },
          "metadata": {
            "tags": []
          }
        }
      ]
    },
    {
      "metadata": {
        "id": "7Ig69wfPvLCw",
        "colab_type": "text"
      },
      "cell_type": "markdown",
      "source": [
        "### Linear Classifier\n",
        "We will train the same network  to see if it can handle with this more difficult classification problem."
      ]
    },
    {
      "metadata": {
        "id": "9zSdSXbUvLCx",
        "colab_type": "code",
        "colab": {
          "base_uri": "https://localhost:8080/",
          "height": 1054
        },
        "outputId": "1499564c-94ac-44b3-f2e1-b33c6f589af5"
      },
      "cell_type": "code",
      "source": [
        "model_linear = linear_classifier()\n",
        "optim_adam = Adam()\n",
        "model_linear.compile(loss='categorical_crossentropy', optimizer=optim_adam, metrics=['accuracy'])\n",
        "model_linear.fit(X_train, Y_train_cat, epochs = 30)"
      ],
      "execution_count": 66,
      "outputs": [
        {
          "output_type": "stream",
          "text": [
            "Epoch 1/30\n",
            "1000/1000 [==============================] - 1s 594us/step - loss: 1.5214 - acc: 0.3720\n",
            "Epoch 2/30\n",
            "1000/1000 [==============================] - 0s 107us/step - loss: 0.9756 - acc: 0.4860\n",
            "Epoch 3/30\n",
            "1000/1000 [==============================] - 0s 109us/step - loss: 0.8985 - acc: 0.5350\n",
            "Epoch 4/30\n",
            "1000/1000 [==============================] - 0s 104us/step - loss: 1.1072 - acc: 0.5460\n",
            "Epoch 5/30\n",
            "1000/1000 [==============================] - 0s 110us/step - loss: 1.0684 - acc: 0.5750\n",
            "Epoch 6/30\n",
            "1000/1000 [==============================] - 0s 115us/step - loss: 0.7948 - acc: 0.6130\n",
            "Epoch 7/30\n",
            "1000/1000 [==============================] - 0s 116us/step - loss: 0.8404 - acc: 0.5990\n",
            "Epoch 8/30\n",
            "1000/1000 [==============================] - 0s 108us/step - loss: 0.8125 - acc: 0.6050\n",
            "Epoch 9/30\n",
            "1000/1000 [==============================] - 0s 111us/step - loss: 0.8752 - acc: 0.5630\n",
            "Epoch 10/30\n",
            "1000/1000 [==============================] - 0s 110us/step - loss: 0.8304 - acc: 0.6110\n",
            "Epoch 11/30\n",
            "1000/1000 [==============================] - 0s 115us/step - loss: 0.8325 - acc: 0.6210\n",
            "Epoch 12/30\n",
            "1000/1000 [==============================] - 0s 107us/step - loss: 0.7652 - acc: 0.6140\n",
            "Epoch 13/30\n",
            "1000/1000 [==============================] - 0s 118us/step - loss: 0.7965 - acc: 0.5960\n",
            "Epoch 14/30\n",
            "1000/1000 [==============================] - 0s 106us/step - loss: 0.9897 - acc: 0.5660\n",
            "Epoch 15/30\n",
            "1000/1000 [==============================] - 0s 116us/step - loss: 0.8990 - acc: 0.5930\n",
            "Epoch 16/30\n",
            "1000/1000 [==============================] - 0s 103us/step - loss: 0.8023 - acc: 0.6190\n",
            "Epoch 17/30\n",
            "1000/1000 [==============================] - 0s 112us/step - loss: 0.8050 - acc: 0.6110\n",
            "Epoch 18/30\n",
            "1000/1000 [==============================] - 0s 109us/step - loss: 0.7516 - acc: 0.6610\n",
            "Epoch 19/30\n",
            "1000/1000 [==============================] - 0s 114us/step - loss: 1.0239 - acc: 0.6000\n",
            "Epoch 20/30\n",
            "1000/1000 [==============================] - 0s 107us/step - loss: 0.9003 - acc: 0.6140\n",
            "Epoch 21/30\n",
            "1000/1000 [==============================] - 0s 106us/step - loss: 0.7605 - acc: 0.6400\n",
            "Epoch 22/30\n",
            "1000/1000 [==============================] - 0s 107us/step - loss: 0.6759 - acc: 0.6830\n",
            "Epoch 23/30\n",
            "1000/1000 [==============================] - 0s 105us/step - loss: 0.7873 - acc: 0.6320\n",
            "Epoch 24/30\n",
            "1000/1000 [==============================] - 0s 115us/step - loss: 0.7992 - acc: 0.6030\n",
            "Epoch 25/30\n",
            "1000/1000 [==============================] - 0s 109us/step - loss: 0.8654 - acc: 0.6190\n",
            "Epoch 26/30\n",
            "1000/1000 [==============================] - 0s 110us/step - loss: 0.8442 - acc: 0.6170\n",
            "Epoch 27/30\n",
            "1000/1000 [==============================] - 0s 102us/step - loss: 0.7803 - acc: 0.6290\n",
            "Epoch 28/30\n",
            "1000/1000 [==============================] - 0s 108us/step - loss: 0.7137 - acc: 0.6500\n",
            "Epoch 29/30\n",
            "1000/1000 [==============================] - 0s 105us/step - loss: 0.7133 - acc: 0.6580\n",
            "Epoch 30/30\n",
            "1000/1000 [==============================] - 0s 107us/step - loss: 0.7909 - acc: 0.6200\n"
          ],
          "name": "stdout"
        },
        {
          "output_type": "execute_result",
          "data": {
            "text/plain": [
              "<keras.callbacks.History at 0x7f765b7b2278>"
            ]
          },
          "metadata": {
            "tags": []
          },
          "execution_count": 66
        }
      ]
    },
    {
      "metadata": {
        "scrolled": true,
        "id": "ggQN79vFvLC2",
        "colab_type": "code",
        "colab": {
          "base_uri": "https://localhost:8080/",
          "height": 544
        },
        "outputId": "576bfe17-2462-49d1-b38b-0a803713bbe7"
      },
      "cell_type": "code",
      "source": [
        "[X_test, Y_test] = generate_test_set_classification()"
      ],
      "execution_count": 67,
      "outputs": [
        {
          "output_type": "stream",
          "text": [
            "Creating data:\n",
            "0\n",
            "10\n",
            "20\n",
            "30\n",
            "40\n",
            "50\n",
            "60\n",
            "70\n",
            "80\n",
            "90\n",
            "100\n",
            "110\n",
            "120\n",
            "130\n",
            "140\n",
            "150\n",
            "160\n",
            "170\n",
            "180\n",
            "190\n",
            "200\n",
            "210\n",
            "220\n",
            "230\n",
            "240\n",
            "250\n",
            "260\n",
            "270\n",
            "280\n",
            "290\n"
          ],
          "name": "stdout"
        }
      ]
    },
    {
      "metadata": {
        "id": "e9uY5jCV_urX",
        "colab_type": "text"
      },
      "cell_type": "markdown",
      "source": [
        "*** Model accuracy on testing set***"
      ]
    },
    {
      "metadata": {
        "id": "6k4zau7-vLC6",
        "colab_type": "code",
        "colab": {
          "base_uri": "https://localhost:8080/",
          "height": 51
        },
        "outputId": "bf9f5c94-5047-422a-c885-efae4f6d62a0"
      },
      "cell_type": "code",
      "source": [
        "model_linear.evaluate(X_test, Y_test)"
      ],
      "execution_count": 68,
      "outputs": [
        {
          "output_type": "stream",
          "text": [
            "300/300 [==============================] - 0s 689us/step\n"
          ],
          "name": "stdout"
        },
        {
          "output_type": "execute_result",
          "data": {
            "text/plain": [
              "[0.8236109137535095, 0.5966666666666667]"
            ]
          },
          "metadata": {
            "tags": []
          },
          "execution_count": 68
        }
      ]
    },
    {
      "metadata": {
        "id": "5GDruWYzvLC9",
        "colab_type": "text"
      },
      "cell_type": "markdown",
      "source": [
        "*** Conclusion ***\n",
        "* It is notable that the linear model is insufficient for this classfication task.\n",
        "* We also notice that the model executed here tends to overfit.\n",
        "* Our previous model scores poorly on the test set with an accuracy of 57%.\n",
        "\n",
        "> We should  use a more sophisticated architecture (deeper NN) to solve this problem.\n",
        "\n",
        "\n"
      ]
    },
    {
      "metadata": {
        "id": "dZL4BuR-vLC-",
        "colab_type": "text"
      },
      "cell_type": "markdown",
      "source": [
        "### Convolutional Neural Network\n",
        "We will use a Convolutional Neural Network. We will begin by using a one convolutional layer with 16 5×5 filters, 1 pooling layer, and one fully connected layer.\n",
        "\n",
        "###Simple CNN"
      ]
    },
    {
      "metadata": {
        "id": "4pMN_1KcvLC_",
        "colab_type": "code",
        "colab": {}
      },
      "cell_type": "code",
      "source": [
        "def simple_CNN():\n",
        "    model = Sequential()\n",
        "    model.add(Conv2D(filters=16, kernel_size = (5,5), input_shape = (IMAGE_SIZE,IMAGE_SIZE,1), activation='relu'))\n",
        "    model.add(MaxPooling2D((2,2)))\n",
        "    model.add(Dropout(0.5))\n",
        "    model.add(Flatten())\n",
        "    model.add(Dense(3, activation='softmax'))\n",
        "    return model"
      ],
      "execution_count": 0,
      "outputs": []
    },
    {
      "metadata": {
        "id": "NPdFaWZOvLDB",
        "colab_type": "text"
      },
      "cell_type": "markdown",
      "source": [
        "We reshape the data to 2D arrays (images)"
      ]
    },
    {
      "metadata": {
        "id": "NO0tM_ABvLDB",
        "colab_type": "code",
        "colab": {}
      },
      "cell_type": "code",
      "source": [
        "n_train =  X_train.shape[0]\n",
        "X_train = X_train.reshape(n_train,IMAGE_SIZE,IMAGE_SIZE,1)"
      ],
      "execution_count": 0,
      "outputs": []
    },
    {
      "metadata": {
        "id": "SwBEd57uvLDE",
        "colab_type": "code",
        "colab": {
          "base_uri": "https://localhost:8080/",
          "height": 1054
        },
        "outputId": "d9887a6b-8edd-4b77-f700-3865178dfa13"
      },
      "cell_type": "code",
      "source": [
        "model_cnn = simple_CNN()\n",
        "optim_adam = Adam()\n",
        "model_cnn.compile(loss='categorical_crossentropy', optimizer=optim_adam, metrics=['accuracy'])\n",
        "model_cnn.fit(X_train, Y_train_cat, epochs = 30, batch_size=32)"
      ],
      "execution_count": 71,
      "outputs": [
        {
          "output_type": "stream",
          "text": [
            "Epoch 1/30\n",
            "1000/1000 [==============================] - 4s 4ms/step - loss: 1.0285 - acc: 0.5120\n",
            "Epoch 2/30\n",
            "1000/1000 [==============================] - 4s 4ms/step - loss: 0.7721 - acc: 0.7030\n",
            "Epoch 3/30\n",
            "1000/1000 [==============================] - 4s 4ms/step - loss: 0.6647 - acc: 0.7340\n",
            "Epoch 4/30\n",
            "1000/1000 [==============================] - 4s 4ms/step - loss: 0.6376 - acc: 0.7320\n",
            "Epoch 5/30\n",
            "1000/1000 [==============================] - 4s 4ms/step - loss: 0.5996 - acc: 0.7740\n",
            "Epoch 6/30\n",
            "1000/1000 [==============================] - 4s 4ms/step - loss: 0.5381 - acc: 0.7850\n",
            "Epoch 7/30\n",
            "1000/1000 [==============================] - 4s 4ms/step - loss: 0.5115 - acc: 0.8120\n",
            "Epoch 8/30\n",
            "1000/1000 [==============================] - 4s 4ms/step - loss: 0.4684 - acc: 0.8140\n",
            "Epoch 9/30\n",
            "1000/1000 [==============================] - 4s 4ms/step - loss: 0.4468 - acc: 0.8330\n",
            "Epoch 10/30\n",
            "1000/1000 [==============================] - 4s 4ms/step - loss: 0.4060 - acc: 0.8520\n",
            "Epoch 11/30\n",
            "1000/1000 [==============================] - 4s 4ms/step - loss: 0.3689 - acc: 0.8780\n",
            "Epoch 12/30\n",
            "1000/1000 [==============================] - 4s 4ms/step - loss: 0.3615 - acc: 0.8730\n",
            "Epoch 13/30\n",
            "1000/1000 [==============================] - 4s 4ms/step - loss: 0.3460 - acc: 0.8910\n",
            "Epoch 14/30\n",
            "1000/1000 [==============================] - 4s 4ms/step - loss: 0.3341 - acc: 0.8850\n",
            "Epoch 15/30\n",
            "1000/1000 [==============================] - 4s 4ms/step - loss: 0.3053 - acc: 0.9010\n",
            "Epoch 16/30\n",
            "1000/1000 [==============================] - 4s 4ms/step - loss: 0.2870 - acc: 0.9160\n",
            "Epoch 17/30\n",
            "1000/1000 [==============================] - 4s 4ms/step - loss: 0.2703 - acc: 0.9220\n",
            "Epoch 18/30\n",
            "1000/1000 [==============================] - 4s 4ms/step - loss: 0.2507 - acc: 0.9330\n",
            "Epoch 19/30\n",
            "1000/1000 [==============================] - 4s 4ms/step - loss: 0.2330 - acc: 0.9410\n",
            "Epoch 20/30\n",
            "1000/1000 [==============================] - 4s 4ms/step - loss: 0.2299 - acc: 0.9370\n",
            "Epoch 21/30\n",
            "1000/1000 [==============================] - 4s 4ms/step - loss: 0.2047 - acc: 0.9550\n",
            "Epoch 22/30\n",
            "1000/1000 [==============================] - 4s 4ms/step - loss: 0.1946 - acc: 0.9490\n",
            "Epoch 23/30\n",
            "1000/1000 [==============================] - 4s 4ms/step - loss: 0.1926 - acc: 0.9480\n",
            "Epoch 24/30\n",
            "1000/1000 [==============================] - 4s 4ms/step - loss: 0.1793 - acc: 0.9580\n",
            "Epoch 25/30\n",
            "1000/1000 [==============================] - 4s 4ms/step - loss: 0.1714 - acc: 0.9620\n",
            "Epoch 26/30\n",
            "1000/1000 [==============================] - 4s 4ms/step - loss: 0.1595 - acc: 0.9670\n",
            "Epoch 27/30\n",
            "1000/1000 [==============================] - 4s 4ms/step - loss: 0.1477 - acc: 0.9730\n",
            "Epoch 28/30\n",
            "1000/1000 [==============================] - 4s 4ms/step - loss: 0.1459 - acc: 0.9630\n",
            "Epoch 29/30\n",
            "1000/1000 [==============================] - 4s 4ms/step - loss: 0.1362 - acc: 0.9700\n",
            "Epoch 30/30\n",
            "1000/1000 [==============================] - 4s 4ms/step - loss: 0.1457 - acc: 0.9690\n"
          ],
          "name": "stdout"
        },
        {
          "output_type": "execute_result",
          "data": {
            "text/plain": [
              "<keras.callbacks.History at 0x7f765bc55ac8>"
            ]
          },
          "metadata": {
            "tags": []
          },
          "execution_count": 71
        }
      ]
    },
    {
      "metadata": {
        "id": "UrXADlcLvLDJ",
        "colab_type": "code",
        "colab": {}
      },
      "cell_type": "code",
      "source": [
        "n_test = X_test.shape[0]\n",
        "X_test = X_test.reshape(n_test,IMAGE_SIZE,IMAGE_SIZE,1)"
      ],
      "execution_count": 0,
      "outputs": []
    },
    {
      "metadata": {
        "id": "AedGPXlgBZI-",
        "colab_type": "text"
      },
      "cell_type": "markdown",
      "source": [
        "*** Model accuracy on testing set***"
      ]
    },
    {
      "metadata": {
        "id": "9hOJg1HPvLDP",
        "colab_type": "code",
        "colab": {
          "base_uri": "https://localhost:8080/",
          "height": 51
        },
        "outputId": "f7eed51b-47b9-4523-f7e9-d75c5aceb66f"
      },
      "cell_type": "code",
      "source": [
        "model_cnn.evaluate(X_test, Y_test)"
      ],
      "execution_count": 73,
      "outputs": [
        {
          "output_type": "stream",
          "text": [
            "300/300 [==============================] - 1s 3ms/step\n"
          ],
          "name": "stdout"
        },
        {
          "output_type": "execute_result",
          "data": {
            "text/plain": [
              "[0.46270286083221435, 0.823333334128062]"
            ]
          },
          "metadata": {
            "tags": []
          },
          "execution_count": 73
        }
      ]
    },
    {
      "metadata": {
        "id": "y2xYDP2GBbax",
        "colab_type": "text"
      },
      "cell_type": "markdown",
      "source": [
        "***Conclusion***\n",
        "* Comparing to the linear classifier, this simple CNN architecture has better performance. \n",
        "* We can boost the performance by using deeper architectures"
      ]
    },
    {
      "metadata": {
        "id": "PfPGWlPrCG1f",
        "colab_type": "text"
      },
      "cell_type": "markdown",
      "source": [
        "***Deeper CNN***"
      ]
    },
    {
      "metadata": {
        "id": "iHxXV9MWvLDV",
        "colab_type": "code",
        "colab": {}
      },
      "cell_type": "code",
      "source": [
        "def deeper_CNN():\n",
        "    model_deepercnn = Sequential()\n",
        "    model_deepercnn.add(Conv2D(filters=32, kernel_size=(5,5), input_shape=(IMAGE_SIZE,IMAGE_SIZE,1), activation='relu'))\n",
        "    model_deepercnn.add(MaxPooling2D((5,5)))\n",
        "    model_deepercnn.add(Dropout(0.5))\n",
        "    model_deepercnn.add(Flatten())\n",
        "    model_deepercnn.add(Dense(128, activation='relu'))\n",
        "    model_deepercnn.add(Dense(3, activation='softmax'))\n",
        "    model_deepercnn.compile(optimizer='adam', loss='categorical_crossentropy',metrics=['accuracy'])        \n",
        "    return model_deepercnn"
      ],
      "execution_count": 0,
      "outputs": []
    },
    {
      "metadata": {
        "id": "22RZb8F2vLDX",
        "colab_type": "code",
        "colab": {
          "base_uri": "https://localhost:8080/",
          "height": 1054
        },
        "outputId": "c53bdd6f-f18a-4b8d-ed60-2e3cf74b489e"
      },
      "cell_type": "code",
      "source": [
        "model_deepercnn = deeper_CNN()\n",
        "model_deepercnn.fit(X_train, Y_train_cat, epochs = 30, batch_size=16)"
      ],
      "execution_count": 76,
      "outputs": [
        {
          "output_type": "stream",
          "text": [
            "Epoch 1/30\n",
            "1000/1000 [==============================] - 6s 6ms/step - loss: 0.8975 - acc: 0.5850\n",
            "Epoch 2/30\n",
            "1000/1000 [==============================] - 5s 5ms/step - loss: 0.6057 - acc: 0.7720\n",
            "Epoch 3/30\n",
            "1000/1000 [==============================] - 5s 5ms/step - loss: 0.4451 - acc: 0.8460\n",
            "Epoch 4/30\n",
            "1000/1000 [==============================] - 5s 5ms/step - loss: 0.3826 - acc: 0.8680\n",
            "Epoch 5/30\n",
            "1000/1000 [==============================] - 5s 5ms/step - loss: 0.2683 - acc: 0.9080\n",
            "Epoch 6/30\n",
            "1000/1000 [==============================] - 5s 5ms/step - loss: 0.2199 - acc: 0.9260\n",
            "Epoch 7/30\n",
            "1000/1000 [==============================] - 5s 5ms/step - loss: 0.1804 - acc: 0.9450\n",
            "Epoch 8/30\n",
            "1000/1000 [==============================] - 5s 5ms/step - loss: 0.1770 - acc: 0.9450\n",
            "Epoch 9/30\n",
            "1000/1000 [==============================] - 5s 5ms/step - loss: 0.1296 - acc: 0.9620\n",
            "Epoch 10/30\n",
            "1000/1000 [==============================] - 5s 5ms/step - loss: 0.1247 - acc: 0.9640\n",
            "Epoch 11/30\n",
            "1000/1000 [==============================] - 5s 5ms/step - loss: 0.0919 - acc: 0.9670\n",
            "Epoch 12/30\n",
            "1000/1000 [==============================] - 5s 5ms/step - loss: 0.0735 - acc: 0.9750\n",
            "Epoch 13/30\n",
            "1000/1000 [==============================] - 5s 5ms/step - loss: 0.0645 - acc: 0.9760\n",
            "Epoch 14/30\n",
            "1000/1000 [==============================] - 5s 5ms/step - loss: 0.0634 - acc: 0.9840\n",
            "Epoch 15/30\n",
            "1000/1000 [==============================] - 5s 5ms/step - loss: 0.0437 - acc: 0.9880\n",
            "Epoch 16/30\n",
            "1000/1000 [==============================] - 5s 5ms/step - loss: 0.0678 - acc: 0.9790\n",
            "Epoch 17/30\n",
            "1000/1000 [==============================] - 6s 6ms/step - loss: 0.0652 - acc: 0.9830\n",
            "Epoch 18/30\n",
            "1000/1000 [==============================] - 5s 5ms/step - loss: 0.0493 - acc: 0.9890\n",
            "Epoch 19/30\n",
            "1000/1000 [==============================] - 5s 5ms/step - loss: 0.0521 - acc: 0.9840\n",
            "Epoch 20/30\n",
            "1000/1000 [==============================] - 5s 5ms/step - loss: 0.0412 - acc: 0.9860\n",
            "Epoch 21/30\n",
            "1000/1000 [==============================] - 5s 5ms/step - loss: 0.0348 - acc: 0.9940\n",
            "Epoch 22/30\n",
            "1000/1000 [==============================] - 5s 5ms/step - loss: 0.0354 - acc: 0.9890\n",
            "Epoch 23/30\n",
            "1000/1000 [==============================] - 5s 5ms/step - loss: 0.0345 - acc: 0.9890\n",
            "Epoch 24/30\n",
            "1000/1000 [==============================] - 5s 5ms/step - loss: 0.0206 - acc: 0.9940\n",
            "Epoch 25/30\n",
            "1000/1000 [==============================] - 5s 5ms/step - loss: 0.0426 - acc: 0.9850\n",
            "Epoch 26/30\n",
            "1000/1000 [==============================] - 5s 5ms/step - loss: 0.0271 - acc: 0.9930\n",
            "Epoch 27/30\n",
            "1000/1000 [==============================] - 5s 5ms/step - loss: 0.0290 - acc: 0.9920\n",
            "Epoch 28/30\n",
            "1000/1000 [==============================] - 6s 6ms/step - loss: 0.0294 - acc: 0.9870\n",
            "Epoch 29/30\n",
            "1000/1000 [==============================] - 5s 5ms/step - loss: 0.0336 - acc: 0.9880\n",
            "Epoch 30/30\n",
            "1000/1000 [==============================] - 5s 5ms/step - loss: 0.0254 - acc: 0.9940\n"
          ],
          "name": "stdout"
        },
        {
          "output_type": "execute_result",
          "data": {
            "text/plain": [
              "<keras.callbacks.History at 0x7f766c532630>"
            ]
          },
          "metadata": {
            "tags": []
          },
          "execution_count": 76
        }
      ]
    },
    {
      "metadata": {
        "id": "K2TvqKdKC_UY",
        "colab_type": "text"
      },
      "cell_type": "markdown",
      "source": [
        "*** Model accuracy on testing set***"
      ]
    },
    {
      "metadata": {
        "id": "ma7uEVTrvLDa",
        "colab_type": "code",
        "colab": {
          "base_uri": "https://localhost:8080/",
          "height": 51
        },
        "outputId": "15d66c5b-9bdd-4921-e7f0-a6bcc54d0142"
      },
      "cell_type": "code",
      "source": [
        "model_deepercnn.evaluate(X_test, Y_test)"
      ],
      "execution_count": 77,
      "outputs": [
        {
          "output_type": "stream",
          "text": [
            "300/300 [==============================] - 1s 3ms/step\n"
          ],
          "name": "stdout"
        },
        {
          "output_type": "execute_result",
          "data": {
            "text/plain": [
              "[0.34755905230840045, 0.9099999992052714]"
            ]
          },
          "metadata": {
            "tags": []
          },
          "execution_count": 77
        }
      ]
    },
    {
      "metadata": {
        "id": "IsPHZQ5DDJP5",
        "colab_type": "text"
      },
      "cell_type": "markdown",
      "source": [
        "**Conclusion***\n",
        "* With this deeper network, we can enhance the performance of our model."
      ]
    },
    {
      "metadata": {
        "id": "p-I_lzgDvLDe",
        "colab_type": "text"
      },
      "cell_type": "markdown",
      "source": [
        "## 5. A Regression Problem\n",
        "The challenge is to predict the image locations of the vertices of a triangle, given an image of this\n",
        "triangle.\n",
        "### Generation "
      ]
    },
    {
      "metadata": {
        "id": "OU1JFFB4vLDf",
        "colab_type": "code",
        "colab": {
          "base_uri": "https://localhost:8080/",
          "height": 5661
        },
        "outputId": "41c969c7-b456-484a-f4ad-6722c263228f"
      },
      "cell_type": "code",
      "source": [
        "[X_train, Y_train] = generate_dataset_regression(3000, 20)\n",
        "[X_test, Y_test] = generate_test_set_regression()"
      ],
      "execution_count": 78,
      "outputs": [
        {
          "output_type": "stream",
          "text": [
            "Creating data:\n",
            "0\n",
            "10\n",
            "20\n",
            "30\n",
            "40\n",
            "50\n",
            "60\n",
            "70\n",
            "80\n",
            "90\n",
            "100\n",
            "110\n",
            "120\n",
            "130\n",
            "140\n",
            "150\n",
            "160\n",
            "170\n",
            "180\n",
            "190\n",
            "200\n",
            "210\n",
            "220\n",
            "230\n",
            "240\n",
            "250\n",
            "260\n",
            "270\n",
            "280\n",
            "290\n",
            "300\n",
            "310\n",
            "320\n",
            "330\n",
            "340\n",
            "350\n",
            "360\n",
            "370\n",
            "380\n",
            "390\n",
            "400\n",
            "410\n",
            "420\n",
            "430\n",
            "440\n",
            "450\n",
            "460\n",
            "470\n",
            "480\n",
            "490\n",
            "500\n",
            "510\n",
            "520\n",
            "530\n",
            "540\n",
            "550\n",
            "560\n",
            "570\n",
            "580\n",
            "590\n",
            "600\n",
            "610\n",
            "620\n",
            "630\n",
            "640\n",
            "650\n",
            "660\n",
            "670\n",
            "680\n",
            "690\n",
            "700\n",
            "710\n",
            "720\n",
            "730\n",
            "740\n",
            "750\n",
            "760\n",
            "770\n",
            "780\n",
            "790\n",
            "800\n",
            "810\n",
            "820\n",
            "830\n",
            "840\n",
            "850\n",
            "860\n",
            "870\n",
            "880\n",
            "890\n",
            "900\n",
            "910\n",
            "920\n",
            "930\n",
            "940\n",
            "950\n",
            "960\n",
            "970\n",
            "980\n",
            "990\n",
            "1000\n",
            "1010\n",
            "1020\n",
            "1030\n",
            "1040\n",
            "1050\n",
            "1060\n",
            "1070\n",
            "1080\n",
            "1090\n",
            "1100\n",
            "1110\n",
            "1120\n",
            "1130\n",
            "1140\n",
            "1150\n",
            "1160\n",
            "1170\n",
            "1180\n",
            "1190\n",
            "1200\n",
            "1210\n",
            "1220\n",
            "1230\n",
            "1240\n",
            "1250\n",
            "1260\n",
            "1270\n",
            "1280\n",
            "1290\n",
            "1300\n",
            "1310\n",
            "1320\n",
            "1330\n",
            "1340\n",
            "1350\n",
            "1360\n",
            "1370\n",
            "1380\n",
            "1390\n",
            "1400\n",
            "1410\n",
            "1420\n",
            "1430\n",
            "1440\n",
            "1450\n",
            "1460\n",
            "1470\n",
            "1480\n",
            "1490\n",
            "1500\n",
            "1510\n",
            "1520\n",
            "1530\n",
            "1540\n",
            "1550\n",
            "1560\n",
            "1570\n",
            "1580\n",
            "1590\n",
            "1600\n",
            "1610\n",
            "1620\n",
            "1630\n",
            "1640\n",
            "1650\n",
            "1660\n",
            "1670\n",
            "1680\n",
            "1690\n",
            "1700\n",
            "1710\n",
            "1720\n",
            "1730\n",
            "1740\n",
            "1750\n",
            "1760\n",
            "1770\n",
            "1780\n",
            "1790\n",
            "1800\n",
            "1810\n",
            "1820\n",
            "1830\n",
            "1840\n",
            "1850\n",
            "1860\n",
            "1870\n",
            "1880\n",
            "1890\n",
            "1900\n",
            "1910\n",
            "1920\n",
            "1930\n",
            "1940\n",
            "1950\n",
            "1960\n",
            "1970\n",
            "1980\n",
            "1990\n",
            "2000\n",
            "2010\n",
            "2020\n",
            "2030\n",
            "2040\n",
            "2050\n",
            "2060\n",
            "2070\n",
            "2080\n",
            "2090\n",
            "2100\n",
            "2110\n",
            "2120\n",
            "2130\n",
            "2140\n",
            "2150\n",
            "2160\n",
            "2170\n",
            "2180\n",
            "2190\n",
            "2200\n",
            "2210\n",
            "2220\n",
            "2230\n",
            "2240\n",
            "2250\n",
            "2260\n",
            "2270\n",
            "2280\n",
            "2290\n",
            "2300\n",
            "2310\n",
            "2320\n",
            "2330\n",
            "2340\n",
            "2350\n",
            "2360\n",
            "2370\n",
            "2380\n",
            "2390\n",
            "2400\n",
            "2410\n",
            "2420\n",
            "2430\n",
            "2440\n",
            "2450\n",
            "2460\n",
            "2470\n",
            "2480\n",
            "2490\n",
            "2500\n",
            "2510\n",
            "2520\n",
            "2530\n",
            "2540\n",
            "2550\n",
            "2560\n",
            "2570\n",
            "2580\n",
            "2590\n",
            "2600\n",
            "2610\n",
            "2620\n",
            "2630\n",
            "2640\n",
            "2650\n",
            "2660\n",
            "2670\n",
            "2680\n",
            "2690\n",
            "2700\n",
            "2710\n",
            "2720\n",
            "2730\n",
            "2740\n",
            "2750\n",
            "2760\n",
            "2770\n",
            "2780\n",
            "2790\n",
            "2800\n",
            "2810\n",
            "2820\n",
            "2830\n",
            "2840\n",
            "2850\n",
            "2860\n",
            "2870\n",
            "2880\n",
            "2890\n",
            "2900\n",
            "2910\n",
            "2920\n",
            "2930\n",
            "2940\n",
            "2950\n",
            "2960\n",
            "2970\n",
            "2980\n",
            "2990\n",
            "Creating data:\n",
            "0\n",
            "10\n",
            "20\n",
            "30\n",
            "40\n",
            "50\n",
            "60\n",
            "70\n",
            "80\n",
            "90\n",
            "100\n",
            "110\n",
            "120\n",
            "130\n",
            "140\n",
            "150\n",
            "160\n",
            "170\n",
            "180\n",
            "190\n",
            "200\n",
            "210\n",
            "220\n",
            "230\n",
            "240\n",
            "250\n",
            "260\n",
            "270\n",
            "280\n",
            "290\n"
          ],
          "name": "stdout"
        }
      ]
    },
    {
      "metadata": {
        "id": "jI1pAgmdvLDi",
        "colab_type": "text"
      },
      "cell_type": "markdown",
      "source": [
        "***Normalization and sorting :***\n",
        "* We should  normalize Y_train and Y_test before training and testing.\n",
        "* We should also sort Y_train and Y_test with respect to one of their coordinates."
      ]
    },
    {
      "metadata": {
        "id": "Jg1toigOvLDi",
        "colab_type": "code",
        "colab": {}
      },
      "cell_type": "code",
      "source": [
        "normalizer = StandardScaler()\n",
        "Y_train_norm = normalizer.fit_transform(Y_train)\n",
        "Y_test_norm = normalizer.fit_transform(Y_test)"
      ],
      "execution_count": 0,
      "outputs": []
    },
    {
      "metadata": {
        "id": "BAVX3PVRvLDl",
        "colab_type": "code",
        "colab": {}
      },
      "cell_type": "code",
      "source": [
        "def sort_coord(v):\n",
        "    Y_temp = np.array(v)\n",
        "    Y_temp = Y_temp.reshape((3, 2))\n",
        "    Y_temp = Y_temp[Y_temp[:,-1].argsort()].flatten()\n",
        "    return Y_temp"
      ],
      "execution_count": 0,
      "outputs": []
    },
    {
      "metadata": {
        "id": "iqGjNNGlvLDo",
        "colab_type": "code",
        "colab": {}
      },
      "cell_type": "code",
      "source": [
        "Y_train_1 = np.array([sort_coord(vertices) for vertices in Y_train_norm])\n",
        "Y_test_1 = np.array([sort_coord(vertices) for vertices in Y_test_norm])"
      ],
      "execution_count": 0,
      "outputs": []
    },
    {
      "metadata": {
        "id": "lBQpL81uvLDq",
        "colab_type": "code",
        "colab": {
          "base_uri": "https://localhost:8080/",
          "height": 324
        },
        "outputId": "f09f44df-81b8-4328-935c-f5235f8e0965"
      },
      "cell_type": "code",
      "source": [
        "idx = 38\n",
        "visualize_prediction(X_train[idx], Y_train[idx])"
      ],
      "execution_count": 83,
      "outputs": [
        {
          "output_type": "display_data",
          "data": {
            "image/png": "[encoded data removed]",
            "text/plain": [
              "<matplotlib.figure.Figure at 0x7f76367455f8>"
            ]
          },
          "metadata": {
            "tags": []
          }
        }
      ]
    },
    {
      "metadata": {
        "id": "3kGONkVvvLDs",
        "colab_type": "text"
      },
      "cell_type": "markdown",
      "source": [
        "### CNN for regression"
      ]
    },
    {
      "metadata": {
        "id": "DL1zsMGHvLDs",
        "colab_type": "code",
        "colab": {}
      },
      "cell_type": "code",
      "source": [
        "n_train = X_train.shape[0]\n",
        "X_train = X_train.reshape(n_train,IMAGE_SIZE,IMAGE_SIZE,1)\n",
        "n_test = X_test.shape[0]\n",
        "X_test = X_test.reshape(n_test,IMAGE_SIZE,IMAGE_SIZE,1)"
      ],
      "execution_count": 0,
      "outputs": []
    },
    {
      "metadata": {
        "id": "iESety23vLDv",
        "colab_type": "code",
        "colab": {}
      },
      "cell_type": "code",
      "source": [
        "def regression_CNN():\n",
        "    model = Sequential()\n",
        "    model.add(Conv2D(32, (3, 3), activation='relu', input_shape=(72, 72, 1), padding='same'))\n",
        "    model.add(MaxPooling2D(pool_size=(4, 4), padding='same'))\n",
        "    model.add(Conv2D(64, (3, 3), activation=\"relu\", padding='same'))\n",
        "    model.add(MaxPooling2D(pool_size=(4, 4), padding='same'))\n",
        "    model.add(Conv2D(128, (3, 3), activation=\"relu\", padding='same'))\n",
        "    model.add(MaxPooling2D(pool_size=(4, 4), padding='same'))\n",
        "    model.add(Conv2D(256, (3, 3), activation=\"relu\", padding='same'))\n",
        "    model.add(Dropout(0.2))\n",
        "    model.add(Flatten())\n",
        "    model.add(Dense(256, activation='relu'))\n",
        "    model.add(Dense(256, activation='relu'))\n",
        "    model.add(Dropout(0.2))\n",
        "    model.add(Dense(256, activation='relu'))\n",
        "    model.add(Dense(128, activation='relu'))\n",
        "    model.add(Dropout(0.2))\n",
        "    model.add(Dense(6))\n",
        "\n",
        "    model.compile(optimizer='adam', loss='mae')\n",
        "    return model\n",
        "    "
      ],
      "execution_count": 0,
      "outputs": []
    },
    {
      "metadata": {
        "id": "4lD7bta1vLDy",
        "colab_type": "code",
        "colab": {
          "base_uri": "https://localhost:8080/",
          "height": 1071
        },
        "outputId": "2647aeef-ebe6-4040-ed6f-f0c45c1a723e"
      },
      "cell_type": "code",
      "source": [
        "model_reg = regression_CNN()\n",
        "model_reg.fit(X_train, Y_train_1, validation_data=(X_test, Y_test_1), epochs = 30, batch_size=64)"
      ],
      "execution_count": 87,
      "outputs": [
        {
          "output_type": "stream",
          "text": [
            "Train on 3000 samples, validate on 300 samples\n",
            "Epoch 1/30\n",
            "3000/3000 [==============================] - 22s 7ms/step - loss: 0.7179 - val_loss: 0.5985\n",
            "Epoch 2/30\n",
            "3000/3000 [==============================] - 20s 7ms/step - loss: 0.5336 - val_loss: 0.4298\n",
            "Epoch 3/30\n",
            "3000/3000 [==============================] - 20s 7ms/step - loss: 0.4345 - val_loss: 0.3716\n",
            "Epoch 4/30\n",
            "3000/3000 [==============================] - 20s 7ms/step - loss: 0.4020 - val_loss: 0.3491\n",
            "Epoch 5/30\n",
            "3000/3000 [==============================] - 20s 7ms/step - loss: 0.3843 - val_loss: 0.3259\n",
            "Epoch 6/30\n",
            "3000/3000 [==============================] - 20s 7ms/step - loss: 0.3713 - val_loss: 0.3223\n",
            "Epoch 7/30\n",
            "3000/3000 [==============================] - 20s 7ms/step - loss: 0.3598 - val_loss: 0.3177\n",
            "Epoch 8/30\n",
            "3000/3000 [==============================] - 20s 7ms/step - loss: 0.3298 - val_loss: 0.2722\n",
            "Epoch 9/30\n",
            "3000/3000 [==============================] - 20s 7ms/step - loss: 0.3013 - val_loss: 0.2526\n",
            "Epoch 10/30\n",
            "3000/3000 [==============================] - 20s 7ms/step - loss: 0.2883 - val_loss: 0.2459\n",
            "Epoch 11/30\n",
            "3000/3000 [==============================] - 20s 7ms/step - loss: 0.2732 - val_loss: 0.2233\n",
            "Epoch 12/30\n",
            "3000/3000 [==============================] - 20s 7ms/step - loss: 0.2680 - val_loss: 0.2241\n",
            "Epoch 13/30\n",
            "3000/3000 [==============================] - 20s 7ms/step - loss: 0.2558 - val_loss: 0.2138\n",
            "Epoch 14/30\n",
            "3000/3000 [==============================] - 20s 7ms/step - loss: 0.2433 - val_loss: 0.1926\n",
            "Epoch 15/30\n",
            "3000/3000 [==============================] - 20s 7ms/step - loss: 0.2403 - val_loss: 0.1981\n",
            "Epoch 16/30\n",
            "3000/3000 [==============================] - 20s 7ms/step - loss: 0.2302 - val_loss: 0.1743\n",
            "Epoch 17/30\n",
            "3000/3000 [==============================] - 20s 7ms/step - loss: 0.2211 - val_loss: 0.1798\n",
            "Epoch 18/30\n",
            "3000/3000 [==============================] - 20s 7ms/step - loss: 0.2136 - val_loss: 0.1689\n",
            "Epoch 19/30\n",
            "3000/3000 [==============================] - 20s 7ms/step - loss: 0.2154 - val_loss: 0.1679\n",
            "Epoch 20/30\n",
            "3000/3000 [==============================] - 20s 7ms/step - loss: 0.2063 - val_loss: 0.1636\n",
            "Epoch 21/30\n",
            "3000/3000 [==============================] - 20s 7ms/step - loss: 0.2105 - val_loss: 0.1695\n",
            "Epoch 22/30\n",
            "3000/3000 [==============================] - 20s 7ms/step - loss: 0.2039 - val_loss: 0.1565\n",
            "Epoch 23/30\n",
            "3000/3000 [==============================] - 20s 7ms/step - loss: 0.1952 - val_loss: 0.1557\n",
            "Epoch 24/30\n",
            "3000/3000 [==============================] - 20s 7ms/step - loss: 0.1967 - val_loss: 0.1633\n",
            "Epoch 25/30\n",
            "3000/3000 [==============================] - 20s 7ms/step - loss: 0.1920 - val_loss: 0.1739\n",
            "Epoch 26/30\n",
            "3000/3000 [==============================] - 20s 7ms/step - loss: 0.1923 - val_loss: 0.1653\n",
            "Epoch 27/30\n",
            "3000/3000 [==============================] - 20s 7ms/step - loss: 0.1901 - val_loss: 0.1626\n",
            "Epoch 28/30\n",
            "3000/3000 [==============================] - 20s 7ms/step - loss: 0.1893 - val_loss: 0.1548\n",
            "Epoch 29/30\n",
            "3000/3000 [==============================] - 20s 7ms/step - loss: 0.1862 - val_loss: 0.1449\n",
            "Epoch 30/30\n",
            "3000/3000 [==============================] - 20s 7ms/step - loss: 0.1858 - val_loss: 0.1517\n"
          ],
          "name": "stdout"
        },
        {
          "output_type": "execute_result",
          "data": {
            "text/plain": [
              "<keras.callbacks.History at 0x7f7635b19c50>"
            ]
          },
          "metadata": {
            "tags": []
          },
          "execution_count": 87
        }
      ]
    },
    {
      "metadata": {
        "id": "NvQvJslSvLD3",
        "colab_type": "code",
        "colab": {}
      },
      "cell_type": "code",
      "source": [
        "predictions_test = model_reg.predict(X_test)\n",
        "Y_pred = normalizer.inverse_transform(predictions_test)"
      ],
      "execution_count": 0,
      "outputs": []
    },
    {
      "metadata": {
        "id": "AYZimccCvLD8",
        "colab_type": "code",
        "colab": {
          "base_uri": "https://localhost:8080/",
          "height": 324
        },
        "outputId": "b36da530-b9a0-48e0-c11d-eeaef028b558"
      },
      "cell_type": "code",
      "source": [
        "idx = 38\n",
        "visualize_prediction(X_test[idx], Y_pred[idx])"
      ],
      "execution_count": 97,
      "outputs": [
        {
          "output_type": "display_data",
          "data": {
            "image/png": "[encoded data removed]",
            "text/plain": [
              "<matplotlib.figure.Figure at 0x7f763507c7f0>"
            ]
          },
          "metadata": {
            "tags": []
          }
        }
      ]
    },
    {
      "metadata": {
        "id": "vGszHF0IvLD_",
        "colab_type": "code",
        "colab": {
          "base_uri": "https://localhost:8080/",
          "height": 324
        },
        "outputId": "2aa5cbe0-3cf4-4708-f29d-f073a8c1d7f7"
      },
      "cell_type": "code",
      "source": [
        "idx = 79\n",
        "visualize_prediction(X_test[idx], Y_test[idx])"
      ],
      "execution_count": 101,
      "outputs": [
        {
          "output_type": "display_data",
          "data": {
            "image/png": "[encoded data removed]",
            "text/plain": [
              "<matplotlib.figure.Figure at 0x7f7634f4de80>"
            ]
          },
          "metadata": {
            "tags": []
          }
        }
      ]
    },
    {
      "metadata": {
        "id": "Jk6ZqXAZvLEC",
        "colab_type": "text"
      },
      "cell_type": "markdown",
      "source": [
        "## 6. Image Denoising\n",
        "In this section, we implement a hourglass network for denoising.\n",
        " \n",
        "###Modify functions\n"
      ]
    },
    {
      "metadata": {
        "id": "IQ8lnCytvLEE",
        "colab_type": "code",
        "colab": {}
      },
      "cell_type": "code",
      "source": [
        "def generate_a_rectangle2(free_location=False):\n",
        "    figsize = 1.0    \n",
        "    U = np.zeros(4)\n",
        "    V = np.zeros(4)\n",
        "    if free_location:\n",
        "        corners = np.random.random(4)\n",
        "        top = max(corners[0], corners[1])\n",
        "        bottom = min(corners[0], corners[1])\n",
        "        left = min(corners[2], corners[3])\n",
        "        right = max(corners[2], corners[3])\n",
        "    else:\n",
        "        side = (0.3 + 0.7 * np.random.random()) * figsize\n",
        "        top = figsize/2 + side/2\n",
        "        bottom = figsize/2 - side/2\n",
        "        left = bottom\n",
        "        right = top\n",
        "    U[0] = U[1] = top\n",
        "    U[2] = U[3] = bottom\n",
        "    V[0] = V[3] = left\n",
        "    V[1] = V[2] = right\n",
        "    noise = 10 + 20*np.random.random()\n",
        "    \n",
        "    return (generate_a_drawing(figsize, U, V, 0), \n",
        "            (generate_a_drawing(figsize, U, V, noise)+ noise) / (255 + 2 * noise))\n",
        "\n",
        "\n",
        "def generate_a_disk2(free_location=False):\n",
        "    figsize = 1.0\n",
        "    if free_location:\n",
        "        center = np.random.random(2)\n",
        "    else:\n",
        "        center = (figsize/2, figsize/2)\n",
        "    radius = (0.3 + 0.7 * np.random.random()) * figsize/2\n",
        "    N = 50\n",
        "    U = np.zeros(N)\n",
        "    V = np.zeros(N)\n",
        "    i = 0\n",
        "    for t in np.linspace(0, 2*np.pi, N):\n",
        "        U[i] = center[0] + np.cos(t) * radius\n",
        "        V[i] = center[1] + np.sin(t) * radius\n",
        "        i = i + 1\n",
        "    noise = 10 + 20*np.random.random()\n",
        "    return (generate_a_drawing(figsize, U, V, 0), \n",
        "            (generate_a_drawing(figsize, U, V, noise)+ noise) / (255 + 2 * noise))\n",
        "\n",
        "\n",
        "\n",
        "def generate_a_triangle2(free_location=False):\n",
        "    figsize = 1.0\n",
        "    if free_location:\n",
        "        U = np.random.random(3)\n",
        "        V = np.random.random(3)\n",
        "    else:\n",
        "        size = (0.3 + 0.7 * np.random.random())*figsize/2\n",
        "        middle = figsize/2\n",
        "        U = (middle, middle+size, middle-size)\n",
        "        V = (middle+size, middle-size, middle-size)\n",
        "    noise = 10 + 20*np.random.random()\n",
        "\n",
        "    imdata = (generate_a_drawing(figsize, U, V, 0), \n",
        "              (generate_a_drawing(figsize, U, V, noise)+ noise) / (255 + 2 * noise))\n",
        "    return [imdata, [U[0], V[0], U[1], V[1], U[2], V[2]]]\n",
        "\n",
        "\n",
        "def generate_dataset_denoising(nb_samples, free_location=False):\n",
        "    # Getting im_size:\n",
        "    im_size = generate_a_rectangle().shape[0]\n",
        "    X_train = np.zeros([nb_samples,im_size])\n",
        "    X_test = np.zeros([nb_samples,im_size])\n",
        "    print('Creating data')\n",
        "    for i in range(nb_samples):\n",
        "        category = np.random.randint(3)\n",
        "        if category == 0:\n",
        "            X_test[i], X_train[i] = generate_a_rectangle2(free_location)\n",
        "        elif category == 1: \n",
        "            X_test[i], X_train[i] = generate_a_disk2(free_location)\n",
        "        else:\n",
        "            [(X_test[i], X_train[i]), V] = generate_a_triangle2(free_location)\n",
        "    return [X_train, X_test]"
      ],
      "execution_count": 0,
      "outputs": []
    },
    {
      "metadata": {
        "id": "WssrXydJNl8X",
        "colab_type": "text"
      },
      "cell_type": "markdown",
      "source": [
        "###Data preprocessing###\n"
      ]
    },
    {
      "metadata": {
        "id": "hiYnp3U8NrpU",
        "colab_type": "code",
        "colab": {
          "base_uri": "https://localhost:8080/",
          "height": 51
        },
        "outputId": "2da7f99f-6be9-4679-e966-a1b351fbf584"
      },
      "cell_type": "code",
      "source": [
        "[X_train, Y_train] = generate_dataset_denoising(1500, free_location=True)\n",
        "X_train = X_train.reshape((1500,72,72,1))/255\n",
        "Y_train = Y_train.reshape((1500,72,72,1))/255\n",
        "[X_val, Y_val] = generate_dataset_denoising(300, free_location=True)\n",
        "X_val = X_val.reshape((300,72,72,1))/255\n",
        "Y_val = Y_val.reshape((300,72,72,1))/255"
      ],
      "execution_count": 120,
      "outputs": [
        {
          "output_type": "stream",
          "text": [
            "Creating data\n",
            "Creating data\n"
          ],
          "name": "stdout"
        }
      ]
    },
    {
      "metadata": {
        "id": "qQ-pjybjON2p",
        "colab_type": "text"
      },
      "cell_type": "markdown",
      "source": [
        "###Create Model"
      ]
    },
    {
      "metadata": {
        "id": "SdqnmIthOI6N",
        "colab_type": "code",
        "colab": {}
      },
      "cell_type": "code",
      "source": [
        "def auto_encoder():\n",
        "    model = Sequential()\n",
        "    model.add(Conv2D(64, (3, 3), activation='relu', input_shape=(72, 72, 1), padding='same'))\n",
        "    model.add(MaxPooling2D(pool_size=(2, 2), padding='same'))\n",
        "    model.add(Conv2D(64, (3, 3), activation=\"relu\", padding='same'))\n",
        "    model.add(MaxPooling2D(pool_size=(2, 2), padding='same'))\n",
        "\n",
        "    model.add(Conv2D(64, (3, 3), activation=\"relu\", padding='same'))\n",
        "    model.add(UpSampling2D((2, 2)))\n",
        "    model.add(Conv2D(64, (3, 3), activation=\"relu\", padding='same'))\n",
        "    model.add(UpSampling2D((2, 2)))\n",
        "    model.add(Conv2D(1, (3, 3), activation=\"sigmoid\", padding='same'))\n",
        "    \n",
        "    return model "
      ],
      "execution_count": 0,
      "outputs": []
    },
    {
      "metadata": {
        "id": "q3JT5xR_OV4s",
        "colab_type": "code",
        "colab": {}
      },
      "cell_type": "code",
      "source": [
        "model = auto_encoder()\n",
        "model.compile(optimizer='adam', loss='binary_crossentropy')"
      ],
      "execution_count": 0,
      "outputs": []
    },
    {
      "metadata": {
        "id": "6QDh-Bt4iOSM",
        "colab_type": "text"
      },
      "cell_type": "markdown",
      "source": [
        "***Fit Model***\n"
      ]
    },
    {
      "metadata": {
        "id": "2erZWjyaX44B",
        "colab_type": "code",
        "colab": {
          "base_uri": "https://localhost:8080/",
          "height": 391
        },
        "outputId": "deb887b5-948e-4ff9-cd24-63f0b03620ad"
      },
      "cell_type": "code",
      "source": [
        "model.fit(X_train, Y_train, epochs=10, batch_size=16,validation_data=(X_val, Y_val),  callbacks=[TensorBoard(log_dir='/tmp/autoencoder')])"
      ],
      "execution_count": 125,
      "outputs": [
        {
          "output_type": "stream",
          "text": [
            "Train on 1500 samples, validate on 300 samples\n",
            "Epoch 1/10\n",
            "1500/1500 [==============================] - 65s 43ms/step - loss: 0.3497 - val_loss: 0.2866\n",
            "Epoch 2/10\n",
            "1500/1500 [==============================] - 66s 44ms/step - loss: 0.1452 - val_loss: 0.0634\n",
            "Epoch 3/10\n",
            "1500/1500 [==============================] - 64s 43ms/step - loss: 0.0327 - val_loss: 0.0249\n",
            "Epoch 4/10\n",
            "1500/1500 [==============================] - 65s 43ms/step - loss: 0.0247 - val_loss: 0.0205\n",
            "Epoch 5/10\n",
            "1500/1500 [==============================] - 65s 43ms/step - loss: 0.0201 - val_loss: 0.0239\n",
            "Epoch 6/10\n",
            "1500/1500 [==============================] - 65s 43ms/step - loss: 0.0193 - val_loss: 0.0221\n",
            "Epoch 7/10\n",
            "1500/1500 [==============================] - 66s 44ms/step - loss: 0.1528 - val_loss: 1.4774\n",
            "Epoch 8/10\n",
            "1500/1500 [==============================] - 65s 43ms/step - loss: 1.4032 - val_loss: 1.4774\n",
            "Epoch 9/10\n",
            "1500/1500 [==============================] - 65s 43ms/step - loss: 1.4032 - val_loss: 1.4774\n",
            "Epoch 10/10\n",
            "1500/1500 [==============================] - 65s 44ms/step - loss: 1.4032 - val_loss: 1.4774\n"
          ],
          "name": "stdout"
        },
        {
          "output_type": "execute_result",
          "data": {
            "text/plain": [
              "<keras.callbacks.History at 0x7f763d84bb38>"
            ]
          },
          "metadata": {
            "tags": []
          },
          "execution_count": 125
        }
      ]
    },
    {
      "metadata": {
        "id": "SuIu_dzHiTen",
        "colab_type": "text"
      },
      "cell_type": "markdown",
      "source": [
        "*** Prediction and visualization***"
      ]
    },
    {
      "metadata": {
        "id": "pHsiBNLSX9Nm",
        "colab_type": "code",
        "colab": {}
      },
      "cell_type": "code",
      "source": [
        "Y_pred = model.predict(X_val)"
      ],
      "execution_count": 0,
      "outputs": []
    },
    {
      "metadata": {
        "id": "XQlpJWy_g4uM",
        "colab_type": "code",
        "colab": {
          "base_uri": "https://localhost:8080/",
          "height": 309
        },
        "outputId": "f6ff333b-ce21-4f04-a868-6ec1da61afc4"
      },
      "cell_type": "code",
      "source": [
        "idx = 38\n",
        "\n",
        "plt.subplots(1, 2, figsize = (15,15))\n",
        "plt.subplot(131)\n",
        "plt.imshow(Y_val[idx,:,:,0], cmap='gray')\n",
        "plt.title('Denoised image')\n",
        "\n",
        "plt.subplot(132)\n",
        "plt.imshow(X_val[idx,:,:,0], cmap='gray')\n",
        "plt.title('noisy image')\n",
        "\n",
        "\n",
        "plt.show()"
      ],
      "execution_count": 136,
      "outputs": [
        {
          "output_type": "display_data",
          "data": {
            "image/png": "[encoded data removed]",
            "text/plain": [
              "<matplotlib.figure.Figure at 0x7f766c4d6fd0>"
            ]
          },
          "metadata": {
            "tags": []
          }
        }
      ]
    },
    {
      "metadata": {
        "id": "cIvZE0Mgg8xc",
        "colab_type": "code",
        "colab": {}
      },
      "cell_type": "code",
      "source": [
        ""
      ],
      "execution_count": 0,
      "outputs": []
    },
    {
      "metadata": {
        "id": "i1P8Zia0h3bn",
        "colab_type": "text"
      },
      "cell_type": "markdown",
      "source": [
        "###Conclusion###\n",
        "* the hourglass network for denoising  consists of a convolutional autoencoder. \n",
        "* The goal achieved is to train the autoencoder to map noisy digits images to clean digits images.\n",
        "* We can see that the picture without noise it's much better than the noizy one."
      ]
    },
    {
      "metadata": {
        "id": "bzmjO2VwiKo_",
        "colab_type": "code",
        "colab": {}
      },
      "cell_type": "code",
      "source": [
        ""
      ],
      "execution_count": 0,
      "outputs": []
    }
  ]
}